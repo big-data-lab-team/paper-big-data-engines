{
 "cells": [
  {
   "cell_type": "code",
   "execution_count": 1,
   "metadata": {},
   "outputs": [],
   "source": [
    "nb_bench = 3\n",
    "col_name = [\"func\", \"start\", \"end\", \"filename\", \"worker\", \"thread\", \"process\"]"
   ]
  },
  {
   "cell_type": "code",
   "execution_count": 2,
   "metadata": {},
   "outputs": [],
   "source": [
    "from math import sqrt\n",
    "import os\n",
    "\n",
    "import numpy as np\n",
    "import matplotlib.pyplot as plt\n",
    "import pandas as pd\n",
    "\n",
    "\n",
    "def plot_results(exp_type, exp_names, xlabel, xticks_label, *, f_out=None):\n",
    "    # Path to result file\n",
    "    spark_file_np = \"../{0}/data/results-spark_{0}-{2}-{1}.csv\"\n",
    "    dask_bag_file_np = \"../{0}/data/results-dask-bag_{0}-{2}-{1}.csv\"\n",
    "    dask_delayed_file_np = \"../{0}/data/results-dask-delayed_{0}-{2}-{1}.csv\"\n",
    "\n",
    "    # Retrieve file name\n",
    "    spark_np = [\n",
    "        [\n",
    "            pd.read_csv(\n",
    "                spark_file_np.format(exp_type, nth_bench, exp_name), names=col_name\n",
    "            ).end.max()\n",
    "            for nth_bench in range(1, nb_bench + 1)\n",
    "            if os.path.exists(spark_file_np.format(exp_type, nth_bench, exp_name))\n",
    "        ]\n",
    "        for exp_name in exp_names\n",
    "    ]\n",
    "\n",
    "    dask_bag_np = [\n",
    "        [\n",
    "            pd.read_csv(\n",
    "                dask_bag_file_np.format(exp_type, nth_bench, exp_name), names=col_name\n",
    "            ).end.max()\n",
    "            for nth_bench in range(1, nb_bench + 1)\n",
    "            if os.path.exists(dask_bag_file_np.format(exp_type, nth_bench, exp_name))\n",
    "        ]\n",
    "        for exp_name in exp_names\n",
    "    ]\n",
    "    \n",
    "    dask_delayed_np = [\n",
    "        [\n",
    "            pd.read_csv(\n",
    "                dask_delayed_file_np.format(exp_type, nth_bench, exp_name), names=col_name\n",
    "            ).end.max()\n",
    "            for nth_bench in range(1, nb_bench + 1)\n",
    "            if os.path.exists(dask_delayed_file_np.format(exp_type, nth_bench, exp_name))\n",
    "        ]\n",
    "        for exp_name in exp_names\n",
    "    ]\n",
    "\n",
    "    # Calculate statistics\n",
    "    spark_np_stat = {\n",
    "        \"mean\": list(map(np.mean, spark_np)),\n",
    "        \"std\": list(map(np.std, spark_np))\n",
    "    }\n",
    "    dask_bag_np_stat = {\n",
    "        \"mean\": list(map(np.mean, dask_bag_np)),\n",
    "        \"std\": list(map(np.std, dask_bag_np)),\n",
    "    }\n",
    "    dask_delayed_np_stat = {\n",
    "        \"mean\": list(map(np.mean, dask_delayed_np)),\n",
    "        \"std\": list(map(np.std, dask_delayed_np)),\n",
    "    }\n",
    "\n",
    "    # Generate plot\n",
    "    fig, ax = plt.subplots(figsize=(10, 5))\n",
    "\n",
    "    barWidth = 0.15\n",
    "\n",
    "    # Set position of bar on X axis\n",
    "    r1 = np.arange(len(spark_np))\n",
    "    r2 = [x + barWidth for x in r1]\n",
    "    r3 = [x + barWidth for x in r2]\n",
    "\n",
    "    plt.bar(\n",
    "        r1,\n",
    "        spark_np_stat[\"mean\"],\n",
    "        yerr=spark_np_stat[\"std\"],\n",
    "        color=\"blue\",\n",
    "        width=barWidth,\n",
    "        edgecolor=\"black\",\n",
    "        alpha=0.66,\n",
    "        label=\"Spark - NumPy\",\n",
    "    )\n",
    "    plt.bar(\n",
    "        r2,\n",
    "        dask_bag_np_stat[\"mean\"],\n",
    "        yerr=dask_bag_np_stat[\"std\"],\n",
    "        color=\"crimson\",\n",
    "        width=barWidth,\n",
    "        edgecolor=\"black\",\n",
    "        alpha=0.66,\n",
    "        label=\"Dask Bag - NumPy\",\n",
    "    )\n",
    "    plt.bar(\n",
    "        r3,\n",
    "        dask_delayed_np_stat[\"mean\"],\n",
    "        yerr=dask_delayed_np_stat[\"std\"],\n",
    "        color=\"orange\",\n",
    "        width=barWidth,\n",
    "        edgecolor=\"black\",\n",
    "        alpha=0.66,\n",
    "        label=\"Dask Delayed - NumPy\",\n",
    "    )\n",
    "\n",
    "    # Add xticks on the middle of the group bars\n",
    "    plt.xlabel(xlabel, fontweight=\"bold\")\n",
    "    plt.xticks([r + barWidth for r in r1], xticks_label)\n",
    "    plt.ylabel(\"Makespan [s]\")\n",
    "    plt.ylim([0,1000])\n",
    "\n",
    "    plt.legend(loc=\"upper right\", bbox_to_anchor=(1.285, 1.02))\n",
    "    \n",
    "    if f_out:\n",
    "        plt.savefig(\"./figures/\"+f_out, bbox_inches='tight')\n",
    "        \n",
    "    plt.show()"
   ]
  },
  {
   "cell_type": "code",
   "execution_count": 3,
   "metadata": {},
   "outputs": [
    {
     "data": {
      "image/png": "[encoded data removed]",
      "text/plain": [
       "<Figure size 720x360 with 1 Axes>"
      ]
     },
     "metadata": {
      "needs_background": "light"
     },
     "output_type": "display_data"
    }
   ],
   "source": [
    "exp_type = \"histogram\"\n",
    "exp_names = [\"1node\", \"2node\", \"4node\", \"baseline\"]\n",
    "xlabel = \"# of workers\"\n",
    "xticks_label = [\"1\", \"2\", \"4\", \"8\"]\n",
    "f_out = \"histo_np_worker.png\"\n",
    "\n",
    "plot_results(exp_type, exp_names, xlabel, xticks_label, f_out=f_out)"
   ]
  },
  {
   "cell_type": "code",
   "execution_count": 4,
   "metadata": {},
   "outputs": [
    {
     "name": "stderr",
     "output_type": "stream",
     "text": [
      "/Users/math/Documents/projects/paper-big-data-engines/.venv/lib/python3.7/site-packages/numpy/core/fromnumeric.py:3118: RuntimeWarning: Mean of empty slice.\n",
      "  out=out, **kwargs)\n",
      "/Users/math/Documents/projects/paper-big-data-engines/.venv/lib/python3.7/site-packages/numpy/core/_methods.py:85: RuntimeWarning: invalid value encountered in double_scalars\n",
      "  ret = ret.dtype.type(ret / rcount)\n",
      "/Users/math/Documents/projects/paper-big-data-engines/.venv/lib/python3.7/site-packages/numpy/core/_methods.py:140: RuntimeWarning: Degrees of freedom <= 0 for slice\n",
      "  keepdims=keepdims)\n",
      "/Users/math/Documents/projects/paper-big-data-engines/.venv/lib/python3.7/site-packages/numpy/core/_methods.py:110: RuntimeWarning: invalid value encountered in true_divide\n",
      "  arrmean, rcount, out=arrmean, casting='unsafe', subok=False)\n",
      "/Users/math/Documents/projects/paper-big-data-engines/.venv/lib/python3.7/site-packages/numpy/core/_methods.py:132: RuntimeWarning: invalid value encountered in double_scalars\n",
      "  ret = ret.dtype.type(ret / rcount)\n"
     ]
    },
    {
     "data": {
      "image/png": "[encoded data removed]",
      "text/plain": [
       "<Figure size 720x360 with 1 Axes>"
      ]
     },
     "metadata": {
      "needs_background": "light"
     },
     "output_type": "display_data"
    }
   ],
   "source": [
    "exp_type = \"histogram\"\n",
    "exp_names = [\"30chunks\", \"baseline\", \"750chunks\"]\n",
    "xlabel = \"# of blocks\"\n",
    "xticks_label = [\"30\\n(2.5GB ea.)\", \"125\\n(0.6GB ea.)\", \"750\\n(0.1GB ea.)\"]\n",
    "f_out = \"histo_np_block.png\"\n",
    "\n",
    "plot_results(exp_type, exp_names, xlabel, xticks_label, f_out=f_out)"
   ]
  },
  {
   "cell_type": "code",
   "execution_count": null,
   "metadata": {},
   "outputs": [],
   "source": []
  }
 ],
 "metadata": {
  "kernelspec": {
   "display_name": "Python 3",
   "language": "python",
   "name": "python3"
  },
  "language_info": {
   "codemirror_mode": {
    "name": "ipython",
    "version": 3
   },
   "file_extension": ".py",
   "mimetype": "text/x-python",
   "name": "python",
   "nbconvert_exporter": "python",
   "pygments_lexer": "ipython3",
   "version": "3.7.4"
  }
 },
 "nbformat": 4,
 "nbformat_minor": 2
}
