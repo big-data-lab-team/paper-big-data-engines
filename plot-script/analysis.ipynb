{
 "cells": [
  {
   "cell_type": "code",
   "execution_count": 1,
   "id": "5c305f38-6a96-437f-b886-bdfe0951922b",
   "metadata": {},
   "outputs": [],
   "source": [
    "import glob\n",
    "import os\n",
    "import pandas as pd\n",
    "\n",
    "col_names = [\"func\", \"start\", \"end\", \"filename\", \"worker\", \"thread\", \"process\"]"
   ]
  },
  {
   "cell_type": "code",
   "execution_count": 2,
   "id": "3847e247-69f4-470e-86c7-4cfd4e7923f8",
   "metadata": {},
   "outputs": [],
   "source": [
    "def avg_func_time(folder):\n",
    "    pd_list = [pd.read_csv(filename, names=col_names) for filename in glob.glob(folder)]\n",
    "    df = pd.concat(pd_list, axis=0, ignore_index=True)\n",
    "    df[\"runtime\"] = df.end - df.start\n",
    "    return df.groupby(\"func\").mean()[\"runtime\"]\n",
    "\n",
    "def func_count(folder):\n",
    "    pd_list = [pd.read_csv(filename, names=col_names) for filename in glob.glob(folder)]\n",
    "    df = pd.concat(pd_list, axis=0, ignore_index=True)\n",
    "    return df.groupby(\"func\").count()[\"filename\"]"
   ]
  },
  {
   "cell_type": "code",
   "execution_count": 3,
   "id": "c757cf9e-333a-4437-b533-f377caac1a99",
   "metadata": {},
   "outputs": [
    {
     "data": {
      "text/plain": [
       "(func\n",
       " classify_block      11.896086\n",
       " dump                 0.204265\n",
       " get_labels           2.331892\n",
       " load                 1.858907\n",
       " update_centroids     0.207127\n",
       " Name: runtime, dtype: float64,\n",
       " func\n",
       " classify_block       25000\n",
       " dump                 25000\n",
       " get_labels          150030\n",
       " load                150010\n",
       " update_centroids    150030\n",
       " Name: filename, dtype: int64)"
      ]
     },
     "execution_count": 3,
     "metadata": {},
     "output_type": "execute_result"
    }
   ],
   "source": [
    "folder = \"../results/benchmarks/dask:kmeans:n_worker=4:block_size=5000:iterations=3/*\"\n",
    "avg_func_time(folder), func_count(folder)"
   ]
  },
  {
   "cell_type": "code",
   "execution_count": 4,
   "id": "195e5f58-9fa8-4c84-ae36-dbb04f0e32ea",
   "metadata": {},
   "outputs": [
    {
     "data": {
      "text/plain": [
       "(func\n",
       " classify_block      11.982192\n",
       " dump                 0.350431\n",
       " get_labels           3.518505\n",
       " load                 3.709027\n",
       " update_centroids     0.154860\n",
       " Name: runtime, dtype: float64,\n",
       " func\n",
       " classify_block       25000\n",
       " dump                 25000\n",
       " get_labels          304783\n",
       " load                 77088\n",
       " update_centroids    303999\n",
       " Name: filename, dtype: int64)"
      ]
     },
     "execution_count": 4,
     "metadata": {},
     "output_type": "execute_result"
    }
   ],
   "source": [
    "folder = \"../results/benchmarks/spark:kmeans:n_worker=4:block_size=5000:iterations=3/*\"\n",
    "avg_func_time(folder), func_count(folder)"
   ]
  },
  {
   "cell_type": "code",
   "execution_count": null,
   "id": "16115178-f75e-449a-a232-4ebe7749d86f",
   "metadata": {},
   "outputs": [],
   "source": []
  }
 ],
 "metadata": {
  "kernelspec": {
   "display_name": "Python 3 (ipykernel)",
   "language": "python",
   "name": "python3"
  },
  "language_info": {
   "codemirror_mode": {
    "name": "ipython",
    "version": 3
   },
   "file_extension": ".py",
   "mimetype": "text/x-python",
   "name": "python",
   "nbconvert_exporter": "python",
   "pygments_lexer": "ipython3",
   "version": "3.9.5"
  }
 },
 "nbformat": 4,
 "nbformat_minor": 5
}
