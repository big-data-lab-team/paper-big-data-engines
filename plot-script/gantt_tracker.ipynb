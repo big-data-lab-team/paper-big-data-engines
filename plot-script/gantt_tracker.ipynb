{
 "cells": [
  {
   "cell_type": "code",
   "execution_count": 1,
   "metadata": {},
   "outputs": [],
   "source": [
    "import glob\n",
    "import os\n",
    "import pandas as pd\n",
    "\n",
    "import plot"
   ]
  },
  {
   "cell_type": "code",
   "execution_count": 2,
   "metadata": {},
   "outputs": [],
   "source": [
    "def pre_process(df):\n",
    "    # Simplify the workers name\n",
    "    df[\"hostname\"] = df.worker\n",
    "    for i, worker in enumerate(df.worker.unique(), 1):\n",
    "        df.loc[df.worker == worker, \"worker_name\"] = f\"worker{i:02d}\"\n",
    "\n",
    "    # Rename function\n",
    "    func_map = {}\n",
    "    df.func = df.func.apply(lambda x: func_map.get(x, x))\n",
    "\n",
    "    # Simplify the thread number for each worker\n",
    "    thread_worker = {\n",
    "        w + \"::\" + str(t): i + 1\n",
    "        for w in df.worker_name.unique()\n",
    "        for i, t in enumerate(df[df.worker_name == w].thread.unique())\n",
    "    }\n",
    "    df[\"worker_thread\"] = df.worker_name + \"::\" + df.thread.astype(str)\n",
    "    df[\"thread_number\"] = df.worker_thread.map(lambda x: thread_worker[x])\n",
    "    df[\"worker_thread\"] = df.worker_name + \"::thread\" + df.thread_number.astype(str)\n",
    "    df = df.sort_values(by=[\"worker_name\", \"thread_number\"], ascending=[True, True])\n",
    "    return df"
   ]
  },
  {
   "cell_type": "code",
   "execution_count": 3,
   "metadata": {},
   "outputs": [],
   "source": [
    "filenames = sorted(glob.glob(\"../results/benchmarks/*/summary*.csv\"))\n",
    "\n",
    "experiments = {}\n",
    "for x in filenames:\n",
    "    path = x.split(\"/\")\n",
    "    experiment = path[-2]\n",
    "    framework = experiment.split(\":\")[0]\n",
    "    fout = f\"{'/'.join(path[:-3])}/output/{path[-2]}/gantt\"\n",
    "    if experiment not in experiments:\n",
    "        experiments[experiment] = [(x, f\"{fout}-1.html\", framework, experiment)]\n",
    "    else:\n",
    "        experiments[experiment].append(\n",
    "            (x, f\"{fout}-{len(experiments[experiment])+1}.html\", framework, experiment)\n",
    "        )\n",
    "\n",
    "experiments = [x for k, v in experiments.items() for x in v]"
   ]
  },
  {
   "cell_type": "code",
   "execution_count": 5,
   "metadata": {},
   "outputs": [],
   "source": [
    "col_name = [\"func\", \"start\", \"end\", \"filename\", \"worker\", \"thread\", \"process\"]\n",
    "\n",
    "for fin, fout, framework, experiment in experiments:\n",
    "    try:\n",
    "        plot.gantt(\n",
    "            pd.read_csv(fin, header=None, names=col_name),\n",
    "            pre_process=pre_process,\n",
    "            group=\"worker_thread\",\n",
    "            x_limit=None,\n",
    "            save_name=fout,\n",
    "            framework=framework,\n",
    "            ylabel=\"Workers\",\n",
    "            title=experiment,\n",
    "        )\n",
    "    except:\n",
    "        print(fin)"
   ]
  },
  {
   "cell_type": "code",
   "execution_count": null,
   "metadata": {},
   "outputs": [],
   "source": []
  }
 ],
 "metadata": {
  "kernelspec": {
   "display_name": "Python 3 (ipykernel)",
   "language": "python",
   "name": "python3"
  },
  "language_info": {
   "codemirror_mode": {
    "name": "ipython",
    "version": 3
   },
   "file_extension": ".py",
   "mimetype": "text/x-python",
   "name": "python",
   "nbconvert_exporter": "python",
   "pygments_lexer": "ipython3",
   "version": "3.9.5"
  }
 },
 "nbformat": 4,
 "nbformat_minor": 4
}
